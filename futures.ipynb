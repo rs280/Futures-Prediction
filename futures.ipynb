{
 "cells": [
  {
   "cell_type": "code",
   "execution_count": 126,
   "metadata": {},
   "outputs": [],
   "source": [
    "# importing necessary libraries\n",
    "import pandas as pd\n",
    "import numpy as np\n",
    "import yfinance as yf\n",
    "import matplotlib.pyplot as plt\n",
    "from itertools import product\n",
    "import sklearn\n",
    "plt.style.use('seaborn')"
   ]
  },
  {
   "cell_type": "code",
   "execution_count": 127,
   "metadata": {},
   "outputs": [
    {
     "name": "stdout",
     "output_type": "stream",
     "text": [
      "[*********************100%***********************]  1 of 1 completed\n"
     ]
    }
   ],
   "source": [
    "# getting Chicago SRW Wheat Futures Close price from yahoo finance and saving to dataframe\n",
    "data = yf.download('ZW=F', start = '2006-01-01', end = '2022-06-04')['Close'].to_frame()"
   ]
  },
  {
   "cell_type": "code",
   "execution_count": 128,
   "metadata": {},
   "outputs": [
    {
     "data": {
      "text/plain": [
       "<AxesSubplot:xlabel='Date'>"
      ]
     },
     "execution_count": 128,
     "metadata": {},
     "output_type": "execute_result"
    },
    {
     "data": {
      "image/png": "[encoded data removed]",
      "text/plain": [
       "<Figure size 576x396 with 1 Axes>"
      ]
     },
     "metadata": {},
     "output_type": "display_data"
    }
   ],
   "source": [
    "data.head()\n",
    "data['Close'].plot()"
   ]
  },
  {
   "cell_type": "code",
   "execution_count": 129,
   "metadata": {},
   "outputs": [],
   "source": [
    "# saving the dataframe as csv file\n",
    "data.to_csv('wheat.csv')"
   ]
  },
  {
   "cell_type": "code",
   "execution_count": 130,
   "metadata": {},
   "outputs": [],
   "source": [
    "dataset_train = pd.read_csv('wheat_train.csv')\n",
    "\n",
    "training_set = dataset_train.iloc[:, 1:2].values\n",
    "dataset1_train = dataset_train['close']\n"
   ]
  },
  {
   "cell_type": "code",
   "execution_count": 131,
   "metadata": {},
   "outputs": [],
   "source": [
    "from sklearn.preprocessing import MinMaxScaler\n",
    "# creating an object sc in minmaxscalar class. Normalising(Scaling) stock prices between 0 and 1\n",
    "sc = MinMaxScaler(feature_range = (0,1))\n",
    "# using fit_transform method for scaling training_set\n",
    "training_set_scaled = sc.fit_transform(training_set)"
   ]
  },
  {
   "cell_type": "code",
   "execution_count": 132,
   "metadata": {},
   "outputs": [],
   "source": [
    "# Creating empty lists for inputs to Neural Network (x_train) and output (y_train)\n",
    "# for each day x_train will contain 60 previous day prices, and y_train will contan next day's predicted price\n",
    "x_train = []\n",
    "y_train = []\n",
    "# populating these empty lists with a for loop. we need to start with the 61st observation to get 60 previous prices\n",
    "# Total observations in training set are 3019\n",
    "for i in range(60, 3019):\n",
    "  x_train.append(training_set_scaled[i-60 : i, 0]) # choosing previous 60 observations in column 1 (We only have one column)\n",
    "  y_train.append(training_set_scaled[i , 0])\n",
    "# creating a numpy array with these lists\n",
    "x_train, y_train = np.array(x_train), np.array(y_train)"
   ]
  },
  {
   "cell_type": "code",
   "execution_count": 133,
   "metadata": {},
   "outputs": [],
   "source": [
    "x_train = np.reshape(x_train, (x_train.shape[0], x_train.shape[1], 1))\n",
    "# selecting number of rows uisng [0] and number of columns using [1]. The 1 at the end is the number of predictors"
   ]
  },
  {
   "cell_type": "code",
   "execution_count": 134,
   "metadata": {},
   "outputs": [],
   "source": [
    "from keras.models import Sequential\n",
    "from keras.layers import Dense\n",
    "from keras.layers import LSTM\n",
    "from keras.layers import Dropout"
   ]
  },
  {
   "cell_type": "code",
   "execution_count": 135,
   "metadata": {},
   "outputs": [],
   "source": [
    "regressor = Sequential()"
   ]
  },
  {
   "cell_type": "code",
   "execution_count": 136,
   "metadata": {},
   "outputs": [],
   "source": [
    "regressor.add(LSTM(units = 50, return_sequences = True, input_shape = (x_train.shape[1], 1)))\n",
    "regressor.add(Dropout(0.2))\n"
   ]
  },
  {
   "cell_type": "code",
   "execution_count": 137,
   "metadata": {},
   "outputs": [],
   "source": [
    "regressor.add(LSTM(units = 50, return_sequences = True))\n",
    "regressor.add(Dropout(0.2))"
   ]
  },
  {
   "cell_type": "code",
   "execution_count": 138,
   "metadata": {},
   "outputs": [],
   "source": [
    "regressor.add(LSTM(units = 50, return_sequences = True))\n",
    "regressor.add(Dropout(0.2))"
   ]
  },
  {
   "cell_type": "code",
   "execution_count": 139,
   "metadata": {},
   "outputs": [],
   "source": [
    "regressor.add(LSTM(units = 50, return_sequences = False))\n",
    "regressor.add(Dropout(0.2))"
   ]
  },
  {
   "cell_type": "code",
   "execution_count": 140,
   "metadata": {},
   "outputs": [],
   "source": [
    "regressor.add(Dense(units = 1))"
   ]
  },
  {
   "cell_type": "code",
   "execution_count": 141,
   "metadata": {},
   "outputs": [],
   "source": [
    "regressor.compile(optimizer = 'rmsprop', loss = 'mean_squared_error')"
   ]
  },
  {
   "cell_type": "code",
   "execution_count": 142,
   "metadata": {},
   "outputs": [
    {
     "name": "stdout",
     "output_type": "stream",
     "text": [
      "Epoch 1/100\n"
     ]
    },
    {
     "name": "stderr",
     "output_type": "stream",
     "text": [
      "2022-06-05 18:11:04.475753: I tensorflow/core/grappler/optimizers/custom_graph_optimizer_registry.cc:113] Plugin optimizer for device_type GPU is enabled.\n",
      "2022-06-05 18:11:05.698591: I tensorflow/core/grappler/optimizers/custom_graph_optimizer_registry.cc:113] Plugin optimizer for device_type GPU is enabled.\n",
      "2022-06-05 18:11:05.873259: I tensorflow/core/grappler/optimizers/custom_graph_optimizer_registry.cc:113] Plugin optimizer for device_type GPU is enabled.\n",
      "2022-06-05 18:11:06.035873: I tensorflow/core/grappler/optimizers/custom_graph_optimizer_registry.cc:113] Plugin optimizer for device_type GPU is enabled.\n",
      "2022-06-05 18:11:06.182589: I tensorflow/core/grappler/optimizers/custom_graph_optimizer_registry.cc:113] Plugin optimizer for device_type GPU is enabled.\n",
      "2022-06-05 18:11:06.348050: I tensorflow/core/grappler/optimizers/custom_graph_optimizer_registry.cc:113] Plugin optimizer for device_type GPU is enabled.\n",
      "2022-06-05 18:11:06.609921: I tensorflow/core/grappler/optimizers/custom_graph_optimizer_registry.cc:113] Plugin optimizer for device_type GPU is enabled.\n",
      "2022-06-05 18:11:06.915614: I tensorflow/core/grappler/optimizers/custom_graph_optimizer_registry.cc:113] Plugin optimizer for device_type GPU is enabled.\n",
      "2022-06-05 18:11:07.212510: I tensorflow/core/grappler/optimizers/custom_graph_optimizer_registry.cc:113] Plugin optimizer for device_type GPU is enabled.\n"
     ]
    },
    {
     "name": "stdout",
     "output_type": "stream",
     "text": [
      "93/93 [==============================] - 16s 90ms/step - loss: 0.0104\n",
      "Epoch 2/100\n",
      "93/93 [==============================] - 7s 79ms/step - loss: 0.0039\n",
      "Epoch 3/100\n",
      "93/93 [==============================] - 7s 77ms/step - loss: 0.0028\n",
      "Epoch 4/100\n",
      "93/93 [==============================] - 7s 78ms/step - loss: 0.0023\n",
      "Epoch 5/100\n",
      "93/93 [==============================] - 7s 80ms/step - loss: 0.0019\n",
      "Epoch 6/100\n",
      "93/93 [==============================] - 7s 78ms/step - loss: 0.0018\n",
      "Epoch 7/100\n",
      "93/93 [==============================] - 7s 78ms/step - loss: 0.0016\n",
      "Epoch 8/100\n",
      "93/93 [==============================] - 7s 76ms/step - loss: 0.0014\n",
      "Epoch 9/100\n",
      "93/93 [==============================] - 7s 77ms/step - loss: 0.0013\n",
      "Epoch 10/100\n",
      "93/93 [==============================] - 7s 76ms/step - loss: 0.0011\n",
      "Epoch 11/100\n",
      "93/93 [==============================] - 7s 76ms/step - loss: 9.9822e-04\n",
      "Epoch 12/100\n",
      "93/93 [==============================] - 7s 77ms/step - loss: 9.3694e-04\n",
      "Epoch 13/100\n",
      "93/93 [==============================] - 7s 77ms/step - loss: 9.0018e-04\n",
      "Epoch 14/100\n",
      "93/93 [==============================] - 7s 77ms/step - loss: 8.1323e-04\n",
      "Epoch 15/100\n",
      "93/93 [==============================] - 7s 76ms/step - loss: 7.6936e-04\n",
      "Epoch 16/100\n",
      "93/93 [==============================] - 7s 77ms/step - loss: 7.4097e-04\n",
      "Epoch 17/100\n",
      "93/93 [==============================] - 7s 76ms/step - loss: 6.7754e-04\n",
      "Epoch 18/100\n",
      "93/93 [==============================] - 7s 77ms/step - loss: 6.7636e-04\n",
      "Epoch 19/100\n",
      "93/93 [==============================] - 7s 80ms/step - loss: 6.3587e-04\n",
      "Epoch 20/100\n",
      "93/93 [==============================] - 7s 79ms/step - loss: 5.9198e-04\n",
      "Epoch 21/100\n",
      "93/93 [==============================] - 9s 94ms/step - loss: 5.9747e-04\n",
      "Epoch 22/100\n",
      "93/93 [==============================] - 8s 81ms/step - loss: 5.5178e-04\n",
      "Epoch 23/100\n",
      "93/93 [==============================] - 8s 90ms/step - loss: 5.6118e-04\n",
      "Epoch 24/100\n",
      "93/93 [==============================] - 8s 85ms/step - loss: 5.5152e-04\n",
      "Epoch 25/100\n",
      "93/93 [==============================] - 8s 81ms/step - loss: 5.2008e-04\n",
      "Epoch 26/100\n",
      "93/93 [==============================] - 8s 83ms/step - loss: 4.9636e-04\n",
      "Epoch 27/100\n",
      "93/93 [==============================] - 7s 79ms/step - loss: 4.7093e-04\n",
      "Epoch 28/100\n",
      "93/93 [==============================] - 8s 85ms/step - loss: 4.8775e-04\n",
      "Epoch 29/100\n",
      "93/93 [==============================] - 7s 80ms/step - loss: 4.7686e-04\n",
      "Epoch 30/100\n",
      "93/93 [==============================] - 7s 78ms/step - loss: 4.4821e-04\n",
      "Epoch 31/100\n",
      "93/93 [==============================] - 7s 78ms/step - loss: 4.3659e-04\n",
      "Epoch 32/100\n",
      "93/93 [==============================] - 7s 79ms/step - loss: 4.6693e-04\n",
      "Epoch 33/100\n",
      "93/93 [==============================] - 7s 79ms/step - loss: 4.3426e-04\n",
      "Epoch 34/100\n",
      "93/93 [==============================] - 7s 79ms/step - loss: 4.2331e-04\n",
      "Epoch 35/100\n",
      "93/93 [==============================] - 7s 78ms/step - loss: 4.4519e-04\n",
      "Epoch 36/100\n",
      "93/93 [==============================] - 7s 79ms/step - loss: 4.4073e-04\n",
      "Epoch 37/100\n",
      "93/93 [==============================] - 7s 79ms/step - loss: 3.9706e-04\n",
      "Epoch 38/100\n",
      "93/93 [==============================] - 7s 79ms/step - loss: 4.1024e-04\n",
      "Epoch 39/100\n",
      "93/93 [==============================] - 7s 79ms/step - loss: 4.0094e-04\n",
      "Epoch 40/100\n",
      "93/93 [==============================] - 8s 81ms/step - loss: 3.9980e-04\n",
      "Epoch 41/100\n",
      "93/93 [==============================] - 7s 79ms/step - loss: 3.9292e-04\n",
      "Epoch 42/100\n",
      "93/93 [==============================] - 8s 82ms/step - loss: 3.9319e-04\n",
      "Epoch 43/100\n",
      "93/93 [==============================] - 7s 79ms/step - loss: 3.9960e-04\n",
      "Epoch 44/100\n",
      "93/93 [==============================] - 7s 79ms/step - loss: 4.1446e-04\n",
      "Epoch 45/100\n",
      "93/93 [==============================] - 7s 80ms/step - loss: 3.8289e-04\n",
      "Epoch 46/100\n",
      "93/93 [==============================] - 7s 80ms/step - loss: 3.5306e-04\n",
      "Epoch 47/100\n",
      "93/93 [==============================] - 7s 79ms/step - loss: 3.7550e-04\n",
      "Epoch 48/100\n",
      "93/93 [==============================] - 7s 79ms/step - loss: 3.6971e-04\n",
      "Epoch 49/100\n",
      "93/93 [==============================] - 8s 83ms/step - loss: 3.7070e-04\n",
      "Epoch 50/100\n",
      "93/93 [==============================] - 7s 77ms/step - loss: 3.7015e-04\n",
      "Epoch 51/100\n",
      "93/93 [==============================] - 7s 79ms/step - loss: 3.8068e-04\n",
      "Epoch 52/100\n",
      "93/93 [==============================] - 7s 80ms/step - loss: 3.6664e-04\n",
      "Epoch 53/100\n",
      "93/93 [==============================] - 7s 79ms/step - loss: 3.6841e-04\n",
      "Epoch 54/100\n",
      "93/93 [==============================] - 7s 80ms/step - loss: 3.6021e-04\n",
      "Epoch 55/100\n",
      "93/93 [==============================] - 7s 79ms/step - loss: 3.5467e-04\n",
      "Epoch 56/100\n",
      "93/93 [==============================] - 8s 82ms/step - loss: 3.6070e-04\n",
      "Epoch 57/100\n",
      "93/93 [==============================] - 7s 78ms/step - loss: 3.5656e-04\n",
      "Epoch 58/100\n",
      "93/93 [==============================] - 7s 79ms/step - loss: 3.6093e-04\n",
      "Epoch 59/100\n",
      "93/93 [==============================] - 7s 80ms/step - loss: 3.5314e-04\n",
      "Epoch 60/100\n",
      "93/93 [==============================] - 7s 80ms/step - loss: 3.4529e-04\n",
      "Epoch 61/100\n",
      "93/93 [==============================] - 7s 79ms/step - loss: 3.4327e-04\n",
      "Epoch 62/100\n",
      "93/93 [==============================] - 7s 80ms/step - loss: 3.6666e-04\n",
      "Epoch 63/100\n",
      "93/93 [==============================] - 7s 79ms/step - loss: 3.5301e-04\n",
      "Epoch 64/100\n",
      "93/93 [==============================] - 7s 79ms/step - loss: 3.4619e-04\n",
      "Epoch 65/100\n",
      "93/93 [==============================] - 8s 81ms/step - loss: 3.5756e-04\n",
      "Epoch 66/100\n",
      "93/93 [==============================] - 7s 79ms/step - loss: 3.3343e-04\n",
      "Epoch 67/100\n",
      "93/93 [==============================] - 7s 80ms/step - loss: 3.3629e-04\n",
      "Epoch 68/100\n",
      "93/93 [==============================] - 7s 80ms/step - loss: 3.3769e-04\n",
      "Epoch 69/100\n",
      "93/93 [==============================] - 7s 80ms/step - loss: 3.4070e-04\n",
      "Epoch 70/100\n",
      "93/93 [==============================] - 7s 80ms/step - loss: 3.3605e-04\n",
      "Epoch 71/100\n",
      "93/93 [==============================] - 7s 78ms/step - loss: 3.4356e-04\n",
      "Epoch 72/100\n",
      "93/93 [==============================] - 8s 81ms/step - loss: 3.3075e-04\n",
      "Epoch 73/100\n",
      "93/93 [==============================] - 7s 79ms/step - loss: 3.3105e-04\n",
      "Epoch 74/100\n",
      "93/93 [==============================] - 7s 79ms/step - loss: 3.4359e-04\n",
      "Epoch 75/100\n",
      "93/93 [==============================] - 7s 80ms/step - loss: 3.1733e-04\n",
      "Epoch 76/100\n",
      "93/93 [==============================] - 7s 79ms/step - loss: 3.2450e-04\n",
      "Epoch 77/100\n",
      "93/93 [==============================] - 7s 79ms/step - loss: 3.3921e-04\n",
      "Epoch 78/100\n",
      "93/93 [==============================] - 7s 79ms/step - loss: 3.3009e-04\n",
      "Epoch 79/100\n",
      "93/93 [==============================] - 7s 79ms/step - loss: 3.3266e-04\n",
      "Epoch 80/100\n",
      "93/93 [==============================] - 7s 79ms/step - loss: 3.2383e-04\n",
      "Epoch 81/100\n",
      "93/93 [==============================] - 7s 78ms/step - loss: 3.2056e-04\n",
      "Epoch 82/100\n",
      "93/93 [==============================] - 7s 79ms/step - loss: 3.0921e-04\n",
      "Epoch 83/100\n",
      "93/93 [==============================] - 7s 78ms/step - loss: 3.1549e-04\n",
      "Epoch 84/100\n",
      "93/93 [==============================] - 7s 79ms/step - loss: 3.3033e-04\n",
      "Epoch 85/100\n",
      "93/93 [==============================] - 7s 79ms/step - loss: 3.1730e-04\n",
      "Epoch 86/100\n",
      "93/93 [==============================] - 7s 79ms/step - loss: 3.2310e-04\n",
      "Epoch 87/100\n",
      "93/93 [==============================] - 7s 79ms/step - loss: 3.2065e-04\n",
      "Epoch 88/100\n",
      "93/93 [==============================] - 7s 78ms/step - loss: 3.2668e-04\n",
      "Epoch 89/100\n",
      "93/93 [==============================] - 7s 80ms/step - loss: 3.1819e-04\n",
      "Epoch 90/100\n",
      "93/93 [==============================] - 7s 79ms/step - loss: 3.0214e-04\n",
      "Epoch 91/100\n",
      "93/93 [==============================] - 7s 79ms/step - loss: 3.1445e-04\n",
      "Epoch 92/100\n",
      "93/93 [==============================] - 7s 79ms/step - loss: 3.1690e-04\n",
      "Epoch 93/100\n",
      "93/93 [==============================] - 7s 79ms/step - loss: 3.0164e-04\n",
      "Epoch 94/100\n",
      "93/93 [==============================] - 7s 79ms/step - loss: 3.2280e-04\n",
      "Epoch 95/100\n",
      "93/93 [==============================] - 7s 78ms/step - loss: 3.1244e-04\n",
      "Epoch 96/100\n",
      "93/93 [==============================] - 7s 79ms/step - loss: 3.1600e-04\n",
      "Epoch 97/100\n",
      "93/93 [==============================] - 7s 78ms/step - loss: 3.0890e-04\n",
      "Epoch 98/100\n",
      "93/93 [==============================] - 7s 79ms/step - loss: 3.1441e-04\n",
      "Epoch 99/100\n",
      "93/93 [==============================] - 7s 80ms/step - loss: 3.1986e-04\n",
      "Epoch 100/100\n",
      "93/93 [==============================] - 7s 79ms/step - loss: 3.0688e-04\n"
     ]
    },
    {
     "data": {
      "text/plain": [
       "<keras.callbacks.History at 0x2f207eee0>"
      ]
     },
     "execution_count": 142,
     "metadata": {},
     "output_type": "execute_result"
    }
   ],
   "source": [
    "regressor.fit(x = x_train, y = y_train, batch_size = 32, epochs = 100 )"
   ]
  },
  {
   "cell_type": "code",
   "execution_count": 149,
   "metadata": {},
   "outputs": [
    {
     "ename": "KeyError",
     "evalue": "'close'",
     "output_type": "error",
     "traceback": [
      "\u001b[0;31m---------------------------------------------------------------------------\u001b[0m",
      "\u001b[0;31mKeyError\u001b[0m                                  Traceback (most recent call last)",
      "File \u001b[0;32m~/miniforge3/envs/data-science/lib/python3.9/site-packages/pandas/core/indexes/base.py:3621\u001b[0m, in \u001b[0;36mIndex.get_loc\u001b[0;34m(self, key, method, tolerance)\u001b[0m\n\u001b[1;32m   <a href='file:///Users/rishi/miniforge3/envs/data-science/lib/python3.9/site-packages/pandas/core/indexes/base.py?line=3619'>3620</a>\u001b[0m \u001b[39mtry\u001b[39;00m:\n\u001b[0;32m-> <a href='file:///Users/rishi/miniforge3/envs/data-science/lib/python3.9/site-packages/pandas/core/indexes/base.py?line=3620'>3621</a>\u001b[0m     \u001b[39mreturn\u001b[39;00m \u001b[39mself\u001b[39;49m\u001b[39m.\u001b[39;49m_engine\u001b[39m.\u001b[39;49mget_loc(casted_key)\n\u001b[1;32m   <a href='file:///Users/rishi/miniforge3/envs/data-science/lib/python3.9/site-packages/pandas/core/indexes/base.py?line=3621'>3622</a>\u001b[0m \u001b[39mexcept\u001b[39;00m \u001b[39mKeyError\u001b[39;00m \u001b[39mas\u001b[39;00m err:\n",
      "File \u001b[0;32mpandas/_libs/index.pyx:136\u001b[0m, in \u001b[0;36mpandas._libs.index.IndexEngine.get_loc\u001b[0;34m()\u001b[0m\n",
      "File \u001b[0;32mpandas/_libs/index.pyx:163\u001b[0m, in \u001b[0;36mpandas._libs.index.IndexEngine.get_loc\u001b[0;34m()\u001b[0m\n",
      "File \u001b[0;32mpandas/_libs/hashtable_class_helper.pxi:5198\u001b[0m, in \u001b[0;36mpandas._libs.hashtable.PyObjectHashTable.get_item\u001b[0;34m()\u001b[0m\n",
      "File \u001b[0;32mpandas/_libs/hashtable_class_helper.pxi:5206\u001b[0m, in \u001b[0;36mpandas._libs.hashtable.PyObjectHashTable.get_item\u001b[0;34m()\u001b[0m\n",
      "\u001b[0;31mKeyError\u001b[0m: 'close'",
      "\nThe above exception was the direct cause of the following exception:\n",
      "\u001b[0;31mKeyError\u001b[0m                                  Traceback (most recent call last)",
      "\u001b[1;32m/Users/rishi/jupyter/futures.ipynb Cell 18'\u001b[0m in \u001b[0;36m<cell line: 2>\u001b[0;34m()\u001b[0m\n\u001b[1;32m      <a href='vscode-notebook-cell:/Users/rishi/jupyter/futures.ipynb#ch0000021?line=0'>1</a>\u001b[0m dataset_test \u001b[39m=\u001b[39m pd\u001b[39m.\u001b[39mread_csv(\u001b[39m'\u001b[39m\u001b[39mwheat_test.csv\u001b[39m\u001b[39m'\u001b[39m)\n\u001b[0;32m----> <a href='vscode-notebook-cell:/Users/rishi/jupyter/futures.ipynb#ch0000021?line=1'>2</a>\u001b[0m dataset_test[\u001b[39m'\u001b[39;49m\u001b[39mclose\u001b[39;49m\u001b[39m'\u001b[39;49m]\u001b[39m.\u001b[39mhead()\n\u001b[1;32m      <a href='vscode-notebook-cell:/Users/rishi/jupyter/futures.ipynb#ch0000021?line=2'>3</a>\u001b[0m real_price \u001b[39m=\u001b[39m dataset_test\u001b[39m.\u001b[39miloc[:, \u001b[39m1\u001b[39m:\u001b[39m2\u001b[39m]\u001b[39m.\u001b[39mvalues\n",
      "File \u001b[0;32m~/miniforge3/envs/data-science/lib/python3.9/site-packages/pandas/core/frame.py:3505\u001b[0m, in \u001b[0;36mDataFrame.__getitem__\u001b[0;34m(self, key)\u001b[0m\n\u001b[1;32m   <a href='file:///Users/rishi/miniforge3/envs/data-science/lib/python3.9/site-packages/pandas/core/frame.py?line=3502'>3503</a>\u001b[0m \u001b[39mif\u001b[39;00m \u001b[39mself\u001b[39m\u001b[39m.\u001b[39mcolumns\u001b[39m.\u001b[39mnlevels \u001b[39m>\u001b[39m \u001b[39m1\u001b[39m:\n\u001b[1;32m   <a href='file:///Users/rishi/miniforge3/envs/data-science/lib/python3.9/site-packages/pandas/core/frame.py?line=3503'>3504</a>\u001b[0m     \u001b[39mreturn\u001b[39;00m \u001b[39mself\u001b[39m\u001b[39m.\u001b[39m_getitem_multilevel(key)\n\u001b[0;32m-> <a href='file:///Users/rishi/miniforge3/envs/data-science/lib/python3.9/site-packages/pandas/core/frame.py?line=3504'>3505</a>\u001b[0m indexer \u001b[39m=\u001b[39m \u001b[39mself\u001b[39;49m\u001b[39m.\u001b[39;49mcolumns\u001b[39m.\u001b[39;49mget_loc(key)\n\u001b[1;32m   <a href='file:///Users/rishi/miniforge3/envs/data-science/lib/python3.9/site-packages/pandas/core/frame.py?line=3505'>3506</a>\u001b[0m \u001b[39mif\u001b[39;00m is_integer(indexer):\n\u001b[1;32m   <a href='file:///Users/rishi/miniforge3/envs/data-science/lib/python3.9/site-packages/pandas/core/frame.py?line=3506'>3507</a>\u001b[0m     indexer \u001b[39m=\u001b[39m [indexer]\n",
      "File \u001b[0;32m~/miniforge3/envs/data-science/lib/python3.9/site-packages/pandas/core/indexes/base.py:3623\u001b[0m, in \u001b[0;36mIndex.get_loc\u001b[0;34m(self, key, method, tolerance)\u001b[0m\n\u001b[1;32m   <a href='file:///Users/rishi/miniforge3/envs/data-science/lib/python3.9/site-packages/pandas/core/indexes/base.py?line=3620'>3621</a>\u001b[0m     \u001b[39mreturn\u001b[39;00m \u001b[39mself\u001b[39m\u001b[39m.\u001b[39m_engine\u001b[39m.\u001b[39mget_loc(casted_key)\n\u001b[1;32m   <a href='file:///Users/rishi/miniforge3/envs/data-science/lib/python3.9/site-packages/pandas/core/indexes/base.py?line=3621'>3622</a>\u001b[0m \u001b[39mexcept\u001b[39;00m \u001b[39mKeyError\u001b[39;00m \u001b[39mas\u001b[39;00m err:\n\u001b[0;32m-> <a href='file:///Users/rishi/miniforge3/envs/data-science/lib/python3.9/site-packages/pandas/core/indexes/base.py?line=3622'>3623</a>\u001b[0m     \u001b[39mraise\u001b[39;00m \u001b[39mKeyError\u001b[39;00m(key) \u001b[39mfrom\u001b[39;00m \u001b[39merr\u001b[39;00m\n\u001b[1;32m   <a href='file:///Users/rishi/miniforge3/envs/data-science/lib/python3.9/site-packages/pandas/core/indexes/base.py?line=3623'>3624</a>\u001b[0m \u001b[39mexcept\u001b[39;00m \u001b[39mTypeError\u001b[39;00m:\n\u001b[1;32m   <a href='file:///Users/rishi/miniforge3/envs/data-science/lib/python3.9/site-packages/pandas/core/indexes/base.py?line=3624'>3625</a>\u001b[0m     \u001b[39m# If we have a listlike key, _check_indexing_error will raise\u001b[39;00m\n\u001b[1;32m   <a href='file:///Users/rishi/miniforge3/envs/data-science/lib/python3.9/site-packages/pandas/core/indexes/base.py?line=3625'>3626</a>\u001b[0m     \u001b[39m#  InvalidIndexError. Otherwise we fall through and re-raise\u001b[39;00m\n\u001b[1;32m   <a href='file:///Users/rishi/miniforge3/envs/data-science/lib/python3.9/site-packages/pandas/core/indexes/base.py?line=3626'>3627</a>\u001b[0m     \u001b[39m#  the TypeError.\u001b[39;00m\n\u001b[1;32m   <a href='file:///Users/rishi/miniforge3/envs/data-science/lib/python3.9/site-packages/pandas/core/indexes/base.py?line=3627'>3628</a>\u001b[0m     \u001b[39mself\u001b[39m\u001b[39m.\u001b[39m_check_indexing_error(key)\n",
      "\u001b[0;31mKeyError\u001b[0m: 'close'"
     ]
    }
   ],
   "source": [
    "dataset_test = pd.read_csv('wheat_test.csv')\n",
    "dataset_test['close'].head()\n",
    "real_price = dataset_test.iloc[:, 1:2].values\n"
   ]
  },
  {
   "cell_type": "code",
   "execution_count": null,
   "metadata": {},
   "outputs": [
    {
     "ename": "NameError",
     "evalue": "name 'dataset1_test' is not defined",
     "output_type": "error",
     "traceback": [
      "\u001b[0;31m---------------------------------------------------------------------------\u001b[0m",
      "\u001b[0;31mNameError\u001b[0m                                 Traceback (most recent call last)",
      "\u001b[1;32m/Users/rishi/jupyter/futures.ipynb Cell 19'\u001b[0m in \u001b[0;36m<cell line: 1>\u001b[0;34m()\u001b[0m\n\u001b[0;32m----> <a href='vscode-notebook-cell:/Users/rishi/jupyter/futures.ipynb#ch0000023?line=0'>1</a>\u001b[0m dataset_total \u001b[39m=\u001b[39m pd\u001b[39m.\u001b[39mconcat((dataset1_train, dataset1_test), axis \u001b[39m=\u001b[39m \u001b[39m0\u001b[39m) \u001b[39m# for vertical concatenation, axis = 0\u001b[39;00m\n\u001b[1;32m      <a href='vscode-notebook-cell:/Users/rishi/jupyter/futures.ipynb#ch0000023?line=1'>2</a>\u001b[0m inputs \u001b[39m=\u001b[39m dataset_total[\u001b[39mlen\u001b[39m(dataset_total) \u001b[39m-\u001b[39m \u001b[39mlen\u001b[39m(dataset_test) \u001b[39m-\u001b[39m \u001b[39m60\u001b[39m : ]\u001b[39m.\u001b[39mvalues\n\u001b[1;32m      <a href='vscode-notebook-cell:/Users/rishi/jupyter/futures.ipynb#ch0000023?line=2'>3</a>\u001b[0m \u001b[39m# we are choosing 60 previous values from dataset_train for our prediction number 1\u001b[39;00m\n",
      "\u001b[0;31mNameError\u001b[0m: name 'dataset1_test' is not defined"
     ]
    }
   ],
   "source": [
    "\n",
    "dataset_total = pd.concat((dataset1_train, dataset1_test), axis = 0) # for vertical concatenation, axis = 0\n",
    "inputs = dataset_total[len(dataset_total) - len(dataset_test) - 60 : ].values\n",
    "# we are choosing 60 previous values from dataset_train for our prediction number 1\n",
    "inputs = inputs.reshape(-1, 1) # this gets input for stock prices in 1 column\n",
    "inputs = sc.transform(inputs) \n",
    "# scaling the inputs. do not need to use fit_transform because sc object was already fitted to training set\n",
    "# scaling must be the same on which our regressor was trained"
   ]
  },
  {
   "cell_type": "code",
   "execution_count": null,
   "metadata": {},
   "outputs": [
    {
     "ename": "ValueError",
     "evalue": "Failed to convert a NumPy array to a Tensor (Unsupported object type float).",
     "output_type": "error",
     "traceback": [
      "\u001b[0;31m---------------------------------------------------------------------------\u001b[0m",
      "\u001b[0;31mValueError\u001b[0m                                Traceback (most recent call last)",
      "\u001b[1;32m/Users/rishi/jupyter/futures.ipynb Cell 20'\u001b[0m in \u001b[0;36m<cell line: 9>\u001b[0;34m()\u001b[0m\n\u001b[1;32m      <a href='vscode-notebook-cell:/Users/rishi/jupyter/futures.ipynb#ch0000025?line=6'>7</a>\u001b[0m \u001b[39m# creating a 3-d structure for keras\u001b[39;00m\n\u001b[1;32m      <a href='vscode-notebook-cell:/Users/rishi/jupyter/futures.ipynb#ch0000025?line=7'>8</a>\u001b[0m x_test \u001b[39m=\u001b[39m np\u001b[39m.\u001b[39mreshape(x_test, (x_test\u001b[39m.\u001b[39mshape[\u001b[39m0\u001b[39m], x_test\u001b[39m.\u001b[39mshape[\u001b[39m1\u001b[39m], \u001b[39m1\u001b[39m))\n\u001b[0;32m----> <a href='vscode-notebook-cell:/Users/rishi/jupyter/futures.ipynb#ch0000025?line=8'>9</a>\u001b[0m predicted_price \u001b[39m=\u001b[39m regressor\u001b[39m.\u001b[39;49mpredict(x_test)\n",
      "File \u001b[0;32m~/miniforge3/envs/data-science/lib/python3.9/site-packages/keras/utils/traceback_utils.py:67\u001b[0m, in \u001b[0;36mfilter_traceback.<locals>.error_handler\u001b[0;34m(*args, **kwargs)\u001b[0m\n\u001b[1;32m     <a href='file:///Users/rishi/miniforge3/envs/data-science/lib/python3.9/site-packages/keras/utils/traceback_utils.py?line=64'>65</a>\u001b[0m \u001b[39mexcept\u001b[39;00m \u001b[39mException\u001b[39;00m \u001b[39mas\u001b[39;00m e:  \u001b[39m# pylint: disable=broad-except\u001b[39;00m\n\u001b[1;32m     <a href='file:///Users/rishi/miniforge3/envs/data-science/lib/python3.9/site-packages/keras/utils/traceback_utils.py?line=65'>66</a>\u001b[0m   filtered_tb \u001b[39m=\u001b[39m _process_traceback_frames(e\u001b[39m.\u001b[39m__traceback__)\n\u001b[0;32m---> <a href='file:///Users/rishi/miniforge3/envs/data-science/lib/python3.9/site-packages/keras/utils/traceback_utils.py?line=66'>67</a>\u001b[0m   \u001b[39mraise\u001b[39;00m e\u001b[39m.\u001b[39mwith_traceback(filtered_tb) \u001b[39mfrom\u001b[39;00m \u001b[39mNone\u001b[39m\n\u001b[1;32m     <a href='file:///Users/rishi/miniforge3/envs/data-science/lib/python3.9/site-packages/keras/utils/traceback_utils.py?line=67'>68</a>\u001b[0m \u001b[39mfinally\u001b[39;00m:\n\u001b[1;32m     <a href='file:///Users/rishi/miniforge3/envs/data-science/lib/python3.9/site-packages/keras/utils/traceback_utils.py?line=68'>69</a>\u001b[0m   \u001b[39mdel\u001b[39;00m filtered_tb\n",
      "File \u001b[0;32m~/miniforge3/envs/data-science/lib/python3.9/site-packages/tensorflow/python/framework/constant_op.py:102\u001b[0m, in \u001b[0;36mconvert_to_eager_tensor\u001b[0;34m(value, ctx, dtype)\u001b[0m\n\u001b[1;32m    <a href='file:///Users/rishi/miniforge3/envs/data-science/lib/python3.9/site-packages/tensorflow/python/framework/constant_op.py?line=99'>100</a>\u001b[0m     dtype \u001b[39m=\u001b[39m dtypes\u001b[39m.\u001b[39mas_dtype(dtype)\u001b[39m.\u001b[39mas_datatype_enum\n\u001b[1;32m    <a href='file:///Users/rishi/miniforge3/envs/data-science/lib/python3.9/site-packages/tensorflow/python/framework/constant_op.py?line=100'>101</a>\u001b[0m ctx\u001b[39m.\u001b[39mensure_initialized()\n\u001b[0;32m--> <a href='file:///Users/rishi/miniforge3/envs/data-science/lib/python3.9/site-packages/tensorflow/python/framework/constant_op.py?line=101'>102</a>\u001b[0m \u001b[39mreturn\u001b[39;00m ops\u001b[39m.\u001b[39;49mEagerTensor(value, ctx\u001b[39m.\u001b[39;49mdevice_name, dtype)\n",
      "\u001b[0;31mValueError\u001b[0m: Failed to convert a NumPy array to a Tensor (Unsupported object type float)."
     ]
    }
   ],
   "source": [
    "# we do not need y_test because we making predictions\n",
    "# the test set contains 936 financial days so the upper bound in for loop would be 60+936 = 996\n",
    "x_test = []\n",
    "for i in range (60, 996):\n",
    "  x_test.append(inputs[i-60 : i, 0])\n",
    "x_test = np.array(x_test)\n",
    "# creating a 3-d structure for keras\n",
    "x_test = np.reshape(x_test, (x_test.shape[0], x_test.shape[1], 1))\n",
    "predicted_price = regressor.predict(x_test)"
   ]
  },
  {
   "cell_type": "code",
   "execution_count": null,
   "metadata": {},
   "outputs": [
    {
     "ename": "NameError",
     "evalue": "name 'predicted_price' is not defined",
     "output_type": "error",
     "traceback": [
      "\u001b[0;31m---------------------------------------------------------------------------\u001b[0m",
      "\u001b[0;31mNameError\u001b[0m                                 Traceback (most recent call last)",
      "\u001b[1;32m/Users/rishi/jupyter/futures.ipynb Cell 21'\u001b[0m in \u001b[0;36m<cell line: 3>\u001b[0;34m()\u001b[0m\n\u001b[1;32m      <a href='vscode-notebook-cell:/Users/rishi/jupyter/futures.ipynb#ch0000026?line=0'>1</a>\u001b[0m \u001b[39m# plotting the real Chicago SRW Wheat Futures price\u001b[39;00m\n\u001b[1;32m      <a href='vscode-notebook-cell:/Users/rishi/jupyter/futures.ipynb#ch0000026?line=1'>2</a>\u001b[0m plt\u001b[39m.\u001b[39mplot(real_price, color \u001b[39m=\u001b[39m \u001b[39m'\u001b[39m\u001b[39mred\u001b[39m\u001b[39m'\u001b[39m, label \u001b[39m=\u001b[39m \u001b[39m'\u001b[39m\u001b[39mReal Wheat Futures price\u001b[39m\u001b[39m'\u001b[39m)\n\u001b[0;32m----> <a href='vscode-notebook-cell:/Users/rishi/jupyter/futures.ipynb#ch0000026?line=2'>3</a>\u001b[0m plt\u001b[39m.\u001b[39mplot(predicted_price, color \u001b[39m=\u001b[39m \u001b[39m'\u001b[39m\u001b[39mblue\u001b[39m\u001b[39m'\u001b[39m, label \u001b[39m=\u001b[39m \u001b[39m'\u001b[39m\u001b[39mPredicted Wheat Futures price\u001b[39m\u001b[39m'\u001b[39m)\n\u001b[1;32m      <a href='vscode-notebook-cell:/Users/rishi/jupyter/futures.ipynb#ch0000026?line=3'>4</a>\u001b[0m plt\u001b[39m.\u001b[39mtitle(\u001b[39m'\u001b[39m\u001b[39mChicago SRW Wheat Futures Price Prediction\u001b[39m\u001b[39m'\u001b[39m)\n\u001b[1;32m      <a href='vscode-notebook-cell:/Users/rishi/jupyter/futures.ipynb#ch0000026?line=4'>5</a>\u001b[0m plt\u001b[39m.\u001b[39mxlabel(\u001b[39m'\u001b[39m\u001b[39mTime\u001b[39m\u001b[39m'\u001b[39m)\n",
      "\u001b[0;31mNameError\u001b[0m: name 'predicted_price' is not defined"
     ]
    },
    {
     "data": {
      "image/png": "[encoded data removed]",
      "text/plain": [
       "<Figure size 576x396 with 1 Axes>"
      ]
     },
     "metadata": {},
     "output_type": "display_data"
    }
   ],
   "source": [
    "# plotting the real Chicago SRW Wheat Futures price\n",
    "plt.plot(real_price, color = 'red', label = 'Real Wheat Futures price')\n",
    "plt.plot(predicted_price, color = 'blue', label = 'Predicted Wheat Futures price')\n",
    "plt.title('Chicago SRW Wheat Futures Price Prediction')\n",
    "plt.xlabel('Time')\n",
    "plt.ylabel('Wheat Futures Price')\n",
    "plt.legend()\n",
    "plt.show()"
   ]
  }
 ],
 "metadata": {
  "interpreter": {
   "hash": "a09b3a3ea73b8f51564009bd6fc738f1cb16d90af3e0ae8ea72324eb14c5a72a"
  },
  "kernelspec": {
   "display_name": "Python 3.9.12 ('data-science')",
   "language": "python",
   "name": "python3"
  },
  "language_info": {
   "codemirror_mode": {
    "name": "ipython",
    "version": 3
   },
   "file_extension": ".py",
   "mimetype": "text/x-python",
   "name": "python",
   "nbconvert_exporter": "python",
   "pygments_lexer": "ipython3",
   "version": "3.9.12"
  },
  "orig_nbformat": 4
 },
 "nbformat": 4,
 "nbformat_minor": 2
}
